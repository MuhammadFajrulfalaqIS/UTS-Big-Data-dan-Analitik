{
  "nbformat": 4,
  "nbformat_minor": 0,
  "metadata": {
    "colab": {
      "provenance": []
    },
    "kernelspec": {
      "name": "python3",
      "display_name": "Python 3"
    },
    "language_info": {
      "name": "python"
    }
  },
  "cells": [
    {
      "cell_type": "code",
      "execution_count": 4,
      "metadata": {
        "colab": {
          "base_uri": "https://localhost:8080/"
        },
        "id": "gjHKScmgNlt1",
        "outputId": "f40a26db-ae44-48fa-fa2b-59a5a6549cac"
      },
      "outputs": [
        {
          "output_type": "stream",
          "name": "stdout",
          "text": [
            "--- Data Awal (Data yang Benar) ---\n",
            "   Umur (X)  Tekanan Darah (Y)\n",
            "0        42                 98\n",
            "1        36                 93\n",
            "2        55                110\n",
            "3        58                 85\n",
            "4        35                105\n",
            "5        65                108\n",
            "6        60                 82\n",
            "7        50                102\n",
            "8        48                118\n",
            "9        51                 99\n",
            "\n",
            "==================================================\n",
            "\n"
          ]
        }
      ],
      "source": [
        "import pandas as pd\n",
        "import numpy as np\n",
        "from sklearn.linear_model import LinearRegression\n",
        "import matplotlib.pyplot as plt\n",
        "\n",
        "# --- 1. Persiapan Data ---\n",
        "# Ini adalah data yang benar sesuai soal\n",
        "data = {\n",
        "    'Umur (X)': [42, 36, 55, 58, 35, 65, 60, 50, 48, 51],\n",
        "    'Tekanan Darah (Y)': [98, 93, 110, 85, 105, 108, 82, 102, 118, 99]\n",
        "}\n",
        "df = pd.DataFrame(data)\n",
        "\n",
        "# Mempersiapkan data untuk scikit-learn\n",
        "# X harus dalam format 2D (DataFrame), y bisa 1D (Series)\n",
        "X = df[['Umur (X)']]\n",
        "y = df['Tekanan Darah (Y)']\n",
        "\n",
        "print(\"--- Data Awal (Data yang Benar) ---\")\n",
        "print(df)\n",
        "print(\"\\n\" + \"=\"*50 + \"\\n\")\n",
        "\n"
      ]
    },
    {
      "cell_type": "code",
      "source": [
        "# --- 3.a) Persamaan Regresi ---\n",
        "\n",
        "# 1. Regresi Y pada X (Model: Y = a + bX)\n",
        "model_Y_on_X = LinearRegression()\n",
        "model_Y_on_X.fit(X, y)\n",
        "\n",
        "b = model_Y_on_X.coef_[0]\n",
        "a = model_Y_on_X.intercept_\n",
        "\n",
        "print(\"--- Jawaban 3.a (Regresi Y pada X) ---\")\n",
        "print(f\"Koefisien b (slope): {b:.4f}\")\n",
        "print(f\"Koefisien a (intercept): {a:.4f}\")\n",
        "print(f\"Persamaan: Tekanan Darah (Y) = {a:.2f} + {b:.4f} * Umur (X)\\n\")\n",
        "\n",
        "\n"
      ],
      "metadata": {
        "colab": {
          "base_uri": "https://localhost:8080/"
        },
        "id": "yZD0Jd1wQCBU",
        "outputId": "2eecb110-f110-41a3-d74e-8df3dd88f958"
      },
      "execution_count": 5,
      "outputs": [
        {
          "output_type": "stream",
          "name": "stdout",
          "text": [
            "--- Jawaban 3.a (Regresi Y pada X) ---\n",
            "Koefisien b (slope): -0.1416\n",
            "Koefisien a (intercept): 107.0796\n",
            "Persamaan: Tekanan Darah (Y) = 107.08 + -0.1416 * Umur (X)\n",
            "\n"
          ]
        }
      ]
    },
    {
      "cell_type": "code",
      "source": [
        "# 2. Regresi X pada Y (Model: X = a' + b'Y)\n",
        "X_inv = df[['Tekanan Darah (Y)']]\n",
        "y_inv = df['Umur (X)']\n",
        "model_X_on_Y = LinearRegression()\n",
        "model_X_on_Y.fit(X_inv, y_inv)\n",
        "b_prime = model_X_on_Y.coef_[0]\n",
        "a_prime = model_X_on_Y.intercept_\n",
        "\n",
        "print(\"--- Jawaban 3.a (Regresi X pada Y) ---\")\n",
        "print(f\"Koefisien b' (slope): {b_prime:.4f}\")\n",
        "print(f\"Koefisien a' (intercept): {a_prime:.4f}\")\n",
        "print(f\"Persamaan: Umur (X) = {a_prime:.2f} + {b_prime:.4f} * Tekanan Darah (Y)\\n\")\n",
        "\n",
        "print(\"=\"*50 + \"\\n\")\n",
        "\n"
      ],
      "metadata": {
        "colab": {
          "base_uri": "https://localhost:8080/"
        },
        "id": "yrdddRxZQHzn",
        "outputId": "e8473370-d31a-4a4d-bce2-41432dcae79f"
      },
      "execution_count": 6,
      "outputs": [
        {
          "output_type": "stream",
          "name": "stdout",
          "text": [
            "--- Jawaban 3.a (Regresi X pada Y) ---\n",
            "Koefisien b' (slope): -0.1143\n",
            "Koefisien a' (intercept): 61.4286\n",
            "Persamaan: Umur (X) = 61.43 + -0.1143 * Tekanan Darah (Y)\n",
            "\n",
            "==================================================\n",
            "\n"
          ]
        }
      ]
    },
    {
      "cell_type": "code",
      "source": [
        "# --- 3.b) Koefisien Korelasi (r) ---\n",
        "r_pandas = df['Umur (X)'].corr(df['Tekanan Darah (Y)'])\n",
        "print(f\"--- Jawaban 3.b (Korelasi 'r') ---\")\n",
        "print(f\"Verifikasi (r dari Pandas): {r_pandas:.4f} \")\n",
        "print(\"\\n\" + \"=\"*50 + \"\\n\")\n",
        "\n"
      ],
      "metadata": {
        "colab": {
          "base_uri": "https://localhost:8080/"
        },
        "id": "AV63t_vaQJtx",
        "outputId": "469ed634-4356-4e54-a6f3-a1109c29d2ad"
      },
      "execution_count": 11,
      "outputs": [
        {
          "output_type": "stream",
          "name": "stdout",
          "text": [
            "--- Jawaban 3.b (Korelasi 'r') ---\n",
            "Verifikasi (r dari Pandas): -0.1272 \n",
            "\n",
            "==================================================\n",
            "\n"
          ]
        }
      ]
    },
    {
      "cell_type": "code",
      "source": [
        "# --- 3.c) Prediksi ---\n",
        "umur_baru = 45\n",
        "prediksi_tekanan_darah = model_Y_on_X.predict([[umur_baru]])\n",
        "\n",
        "print(\"--- Jawaban 3.c (Prediksi) ---\")\n",
        "print(f\"Perkiraan Tekanan Darah (Y) untuk Umur (X) = {umur_baru} tahun adalah: {prediksi_tekanan_darah[0]:.2f}\\n\")\n",
        "\n",
        "print(\"=\"*50 + \"\\n\")\n",
        "\n",
        "# --- 3.d) Performa Model (R-squared) ---\n",
        "r_squared = model_Y_on_X.score(X, y)\n",
        "\n",
        "print(\"--- Jawaban 3.d (Performa Model) ---\")\n",
        "print(f\"Koefisien Determinasi (R-squared): {r_squared:.4f}\")\n",
        "print(f\"Artinya, {r_squared:.1%} variasi tekanan darah dapat dijelaskan oleh umur.\\n\")\n",
        "\n",
        "print(\"=\"*50 + \"\\n\")"
      ],
      "metadata": {
        "colab": {
          "base_uri": "https://localhost:8080/"
        },
        "id": "hy4TZJ05QLs8",
        "outputId": "faf332d8-1ff9-4ed6-e331-a93cbea0ac6d"
      },
      "execution_count": 8,
      "outputs": [
        {
          "output_type": "stream",
          "name": "stdout",
          "text": [
            "--- Jawaban 3.c (Prediksi) ---\n",
            "Perkiraan Tekanan Darah (Y) untuk Umur (X) = 45 tahun adalah: 100.71\n",
            "\n",
            "==================================================\n",
            "\n",
            "--- Jawaban 3.d (Performa Model) ---\n",
            "Koefisien Determinasi (R-squared): 0.0162\n",
            "Artinya, 1.6% variasi tekanan darah dapat dijelaskan oleh umur.\n",
            "\n",
            "==================================================\n",
            "\n"
          ]
        },
        {
          "output_type": "stream",
          "name": "stderr",
          "text": [
            "/usr/local/lib/python3.12/dist-packages/sklearn/utils/validation.py:2739: UserWarning: X does not have valid feature names, but LinearRegression was fitted with feature names\n",
            "  warnings.warn(\n"
          ]
        }
      ]
    }
  ]
}