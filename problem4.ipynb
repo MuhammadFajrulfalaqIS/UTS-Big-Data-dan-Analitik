{
  "nbformat": 4,
  "nbformat_minor": 0,
  "metadata": {
    "colab": {
      "provenance": []
    },
    "kernelspec": {
      "name": "python3",
      "display_name": "Python 3"
    },
    "language_info": {
      "name": "python"
    }
  },
  "cells": [
    {
      "cell_type": "code",
      "execution_count": 2,
      "metadata": {
        "colab": {
          "base_uri": "https://localhost:8080/"
        },
        "id": "rZzS_szGWVkE",
        "outputId": "e21785b6-16d6-472f-ac98-6cfea7d3ce34"
      },
      "outputs": [
        {
          "output_type": "stream",
          "name": "stdout",
          "text": [
            "Rata-rata penjualan Musim Kemarau: 125.0 unit\n",
            "Rata-rata penjualan Musim Hujan: 77.0 unit\n",
            "\n",
            "==================================================\n",
            "\n",
            "--- Analisis Relasi (t-test) ---\n",
            "T-Statistic: 12.2759\n",
            "P-Value: 0.0000000003\n",
            "\n",
            "Interpretasi: Karena p-value (0.0000000003) < 0.05,\n",
            "Kita menolak Hipotesis Nol (H0).\n",
            "Kesimpulan: TERDAPAT RELASI yang signifikan secara statistik antara musim dan hasil penjualan.\n",
            "\n",
            "==================================================\n",
            "\n",
            "--- Analisis Performa (R-squared) ---\n",
            "Koefisien Determinasi (R-squared): 0.8933\n",
            "\n",
            "Interpretasi Performa:\n",
            "Nilai R-squared adalah 89.3%.\n",
            "Ini berarti 89.3% dari variasi (naik-turunnya) penjualan es krim\n",
            "dapat dijelaskan oleh 'Musim'. Ini menunjukkan performa/pengaruh musim yang sangat kuat.\n",
            "\n",
            "==================================================\n",
            "\n"
          ]
        }
      ],
      "source": [
        "import pandas as pd\n",
        "import numpy as np\n",
        "from scipy import stats\n",
        "from sklearn.linear_model import LinearRegression\n",
        "import seaborn as sns\n",
        "import matplotlib.pyplot as plt\n",
        "\n",
        "# --- 1. Persiapan Data ---\n",
        "# Data hipotetis penjualan es krim (unit per hari)\n",
        "penjualan_kemarau = [120, 115, 130, 125, 110, 140, 135, 128, 132, 115]\n",
        "penjualan_hujan = [70, 80, 75, 65, 85, 90, 78, 82, 70, 75]\n",
        "\n",
        "# Menghitung rata-rata untuk gambaran awal\n",
        "print(f\"Rata-rata penjualan Musim Kemarau: {np.mean(penjualan_kemarau):.1f} unit\")\n",
        "print(f\"Rata-rata penjualan Musim Hujan: {np.mean(penjualan_hujan):.1f} unit\")\n",
        "print(\"\\n\" + \"=\"*50 + \"\\n\")\n",
        "\n",
        "# --- 2. Analisis Relasi (Independent Samples t-test) ---\n",
        "print(\"--- Analisis Relasi (t-test) ---\")\n",
        "\n",
        "# Melakukan t-test\n",
        "# Kita asumsikan variansnya sama (default 'equal_var=True' biasanya aman)\n",
        "t_statistic, p_value = stats.ttest_ind(penjualan_kemarau, penjualan_hujan)\n",
        "\n",
        "print(f\"T-Statistic: {t_statistic:.4f}\")\n",
        "print(f\"P-Value: {p_value:.10f}\") # Tampilkan p-value dengan presisi tinggi\n",
        "\n",
        "# Interpretasi p-value\n",
        "alpha = 0.05\n",
        "if p_value < alpha:\n",
        "    print(f\"\\nInterpretasi: Karena p-value ({p_value:.10f}) < {alpha},\")\n",
        "    print(\"Kita menolak Hipotesis Nol (H0).\")\n",
        "    print(\"Kesimpulan: TERDAPAT RELASI yang signifikan secara statistik antara musim dan hasil penjualan.\")\n",
        "else:\n",
        "    print(f\"\\nInterpretasi: Karena p-value ({p_value:.10f}) >= {alpha},\")\n",
        "    print(\"Kita gagal menolak Hipotesis Nol (H0).\")\n",
        "    print(\"Kesimpulan: TIDAK TERDAPAT RELASI yang signifikan antara musim dan hasil penjualan.\")\n",
        "\n",
        "print(\"\\n\" + \"=\"*50 + \"\\n\")\n",
        "\n",
        "# --- 3. Analisis Performa (R-squared) ---\n",
        "print(\"--- Analisis Performa (R-squared) ---\")\n",
        "\n",
        "# Menggabungkan data ke dalam satu DataFrame untuk regresi\n",
        "df_kemarau = pd.DataFrame({'Penjualan': penjualan_kemarau, 'Musim': 'Kemarau'})\n",
        "df_hujan = pd.DataFrame({'Penjualan': penjualan_hujan, 'Musim': 'Hujan'})\n",
        "df = pd.concat([df_kemarau, df_hujan], ignore_index=True)\n",
        "\n",
        "# Membuat 'dummy variable' (0 untuk Hujan, 1 untuk Kemarau)\n",
        "df['Musim_dummy'] = df['Musim'].map({'Kemarau': 1, 'Hujan': 0})\n",
        "\n",
        "# Menyiapkan data untuk model regresi\n",
        "X = df[['Musim_dummy']] # Variabel independen (harus 2D)\n",
        "y = df['Penjualan']      # Variabel dependen\n",
        "\n",
        "# Membuat dan melatih model\n",
        "model = LinearRegression()\n",
        "model.fit(X, y)\n",
        "\n",
        "# Menghitung R-squared (Performa)\n",
        "r_squared = model.score(X, y)\n",
        "\n",
        "print(f\"Koefisien Determinasi (R-squared): {r_squared:.4f}\")\n",
        "print(f\"\\nInterpretasi Performa:\")\n",
        "print(f\"Nilai R-squared adalah {r_squared:.1%}.\")\n",
        "print(f\"Ini berarti {r_squared:.1%} dari variasi (naik-turunnya) penjualan es krim\")\n",
        "print(\"dapat dijelaskan oleh 'Musim'. Ini menunjukkan performa/pengaruh musim yang sangat kuat.\")\n",
        "\n",
        "print(\"\\n\" + \"=\"*50 + \"\\n\")"
      ]
    }
  ]
}