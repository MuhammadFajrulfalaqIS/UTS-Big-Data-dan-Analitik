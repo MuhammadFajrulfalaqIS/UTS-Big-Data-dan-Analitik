{
  "nbformat": 4,
  "nbformat_minor": 0,
  "metadata": {
    "colab": {
      "provenance": []
    },
    "kernelspec": {
      "name": "python3",
      "display_name": "Python 3"
    },
    "language_info": {
      "name": "python"
    }
  },
  "cells": [
    {
      "cell_type": "code",
      "execution_count": 1,
      "metadata": {
        "colab": {
          "base_uri": "https://localhost:8080/"
        },
        "id": "LlMza_9PjLdf",
        "outputId": "c3a07139-d205-4952-bfb2-2c82aeb06ded"
      },
      "outputs": [
        {
          "output_type": "stream",
          "name": "stdout",
          "text": [
            "--- Data Soal 1 ---\n",
            "   Biaya Iklan (X)  Volume Penjualan (Y)\n",
            "0               11                    50\n",
            "1               13                    50\n",
            "2               14                    55\n",
            "3               16                    60\n",
            "4               16                    65\n",
            "5               15                    65\n",
            "6               15                    65\n",
            "7               14                    60\n",
            "8               13                    60\n",
            "9               13                    50\n",
            "\n",
            "==================================================\n",
            "\n",
            "--- Hasil Perhitungan ---\n",
            "Koefisien Korelasi (r): 0.78657\n",
            "\n",
            "==================================================\n",
            "\n",
            "--- Interpretasi ---\n",
            "Nilai r = 0.787 (positif) menunjukkan hubungan yang kuat.\n",
            "Artinya, ada kecenderungan bahwa semakin tinggi Biaya Iklan (X),\n",
            "semakin tinggi pula Volume Penjualan (Y).\n"
          ]
        }
      ],
      "source": [
        "import pandas as pd\n",
        "\n",
        "# --- 1. Persiapan Data ---\n",
        "# Memasukkan data dari tabel soal no 1\n",
        "data = {\n",
        "    'Biaya Iklan (X)': [11, 13, 14, 16, 16, 15, 15, 14, 13, 13],\n",
        "    'Volume Penjualan (Y)': [50, 50, 55, 60, 65, 65, 65, 60, 60, 50]\n",
        "}\n",
        "\n",
        "# Membuat DataFrame pandas\n",
        "df = pd.DataFrame(data)\n",
        "\n",
        "print(\"--- Data Soal 1 ---\")\n",
        "print(df)\n",
        "print(\"\\n\" + \"=\"*50 + \"\\n\")\n",
        "\n",
        "# --- 2. Perhitungan Koefisien Korelasi ---\n",
        "# Menghitung koefisien korelasi Pearson (r)\n",
        "# .corr() akan menghitung matriks korelasi, kita ambil nilai antara X dan Y\n",
        "correlation_matrix = df.corr(method='pearson')\n",
        "\n",
        "# Mengambil nilai korelasi spesifik antara 'Biaya Iklan (X)' dan 'Volume Penjualan (Y)'\n",
        "r = correlation_matrix.loc['Biaya Iklan (X)', 'Volume Penjualan (Y)']\n",
        "\n",
        "print(\"--- Hasil Perhitungan ---\")\n",
        "print(f\"Koefisien Korelasi (r): {r:.5f}\")\n",
        "print(\"\\n\" + \"=\"*50 + \"\\n\")\n",
        "\n",
        "# --- 3. Interpretasi Hasil ---\n",
        "print(\"--- Interpretasi ---\")\n",
        "if r > 0.7:\n",
        "    strength = \"kuat\"\n",
        "elif r > 0.4:\n",
        "    strength = \"sedang\"\n",
        "elif r > 0:\n",
        "    strength = \"lemah\"\n",
        "elif r == 0:\n",
        "    strength = \"tidak ada\"\n",
        "else:\n",
        "    strength = \"negatif\" # Sederhanakan untuk contoh ini\n",
        "\n",
        "if strength != \"tidak ada\" and strength != \"negatif\":\n",
        "    print(f\"Nilai r = {r:.3f} (positif) menunjukkan hubungan yang {strength}.\")\n",
        "    print(\"Artinya, ada kecenderungan bahwa semakin tinggi Biaya Iklan (X),\")\n",
        "    print(\"semakin tinggi pula Volume Penjualan (Y).\")\n",
        "elif strength == \"negatif\":\n",
        "     print(f\"Nilai r = {r:.3f} (negatif) menunjukkan hubungan yang negatif.\")\n",
        "else:\n",
        "     print(\"Tidak ada korelasi linier.\")"
      ]
    }
  ]
}